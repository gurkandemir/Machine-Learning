{
  "nbformat": 4,
  "nbformat_minor": 0,
  "metadata": {
    "kernelspec": {
      "display_name": "Python 3",
      "language": "python",
      "name": "python3"
    },
    "language_info": {
      "codemirror_mode": {
        "name": "ipython",
        "version": 3
      },
      "file_extension": ".py",
      "mimetype": "text/x-python",
      "name": "python",
      "nbconvert_exporter": "python",
      "pygments_lexer": "ipython3",
      "version": "3.7.4"
    },
    "colab": {
      "name": "CMPE 462 - Project 2.ipynb",
      "provenance": [],
      "collapsed_sections": [],
      "toc_visible": true
    }
  },
  "cells": [
    {
      "cell_type": "markdown",
      "metadata": {
        "id": "BRPLc19KT517",
        "colab_type": "text"
      },
      "source": [
        "<h1><center>CMPE 462 - Project 2<br>Implementing an SVM Classifier<br>Due: May 18, 2020, 23:59</center></h1>"
      ]
    },
    {
      "cell_type": "markdown",
      "metadata": {
        "id": "KftRwtzlT51-",
        "colab_type": "text"
      },
      "source": [
        "* **Student ID1: 2015400069**\n",
        "* **Student ID2: 2015400177**\n",
        "* **Student ID3: 2019700087**"
      ]
    },
    {
      "cell_type": "markdown",
      "metadata": {
        "id": "KAu-ZZQHT51_",
        "colab_type": "text"
      },
      "source": [
        "## Overview\n",
        "\n",
        "In this project, you are going to implement SVM. For this purpose, a data set (data.mat) is given to you. You can load the mat dataset into Python using the function `loadmat` in `Scipy.io`. When you load the data, you will obtain a dictionary object, where `X` stores the data matrix and `Y` stores the labels. You can use the first 150 samples for training and the rest for testing. In this project, you will use the software package [`LIBSVM`](http://www.csie.ntu.edu.tw/~cjlin/libsvm/) to implement SVM. Note that `LIBSVM` has a [`Python interface`](https://github.com/cjlin1/libsvm/tree/master/python), so you can call the SVM functions in Python. "
      ]
    },
    {
      "cell_type": "code",
      "metadata": {
        "id": "-k-itIS0UHAV",
        "colab_type": "code",
        "outputId": "c6edfcc1-53cf-47c4-8e68-d653d91c1fcb",
        "colab": {
          "base_uri": "https://localhost:8080/",
          "height": 219
        }
      },
      "source": [
        "pip install libsvm"
      ],
      "execution_count": 0,
      "outputs": [
        {
          "output_type": "stream",
          "text": [
            "Collecting libsvm\n",
            "\u001b[?25l  Downloading https://files.pythonhosted.org/packages/4b/11/c7700d0cd3a21eef2d7d996256277fc640ccd4f84717c10228cb6c1567dc/libsvm-3.23.0.4.tar.gz (170kB)\n",
            "\r\u001b[K     |██                              | 10kB 17.9MB/s eta 0:00:01\r\u001b[K     |███▉                            | 20kB 1.7MB/s eta 0:00:01\r\u001b[K     |█████▊                          | 30kB 2.3MB/s eta 0:00:01\r\u001b[K     |███████▊                        | 40kB 1.7MB/s eta 0:00:01\r\u001b[K     |█████████▋                      | 51kB 1.8MB/s eta 0:00:01\r\u001b[K     |███████████▌                    | 61kB 2.1MB/s eta 0:00:01\r\u001b[K     |█████████████▌                  | 71kB 2.4MB/s eta 0:00:01\r\u001b[K     |███████████████▍                | 81kB 2.5MB/s eta 0:00:01\r\u001b[K     |█████████████████▎              | 92kB 2.8MB/s eta 0:00:01\r\u001b[K     |███████████████████▏            | 102kB 2.7MB/s eta 0:00:01\r\u001b[K     |█████████████████████▏          | 112kB 2.7MB/s eta 0:00:01\r\u001b[K     |███████████████████████         | 122kB 2.7MB/s eta 0:00:01\r\u001b[K     |█████████████████████████       | 133kB 2.7MB/s eta 0:00:01\r\u001b[K     |███████████████████████████     | 143kB 2.7MB/s eta 0:00:01\r\u001b[K     |████████████████████████████▉   | 153kB 2.7MB/s eta 0:00:01\r\u001b[K     |██████████████████████████████▊ | 163kB 2.7MB/s eta 0:00:01\r\u001b[K     |████████████████████████████████| 174kB 2.7MB/s \n",
            "\u001b[?25hBuilding wheels for collected packages: libsvm\n",
            "  Building wheel for libsvm (setup.py) ... \u001b[?25l\u001b[?25hdone\n",
            "  Created wheel for libsvm: filename=libsvm-3.23.0.4-cp36-cp36m-linux_x86_64.whl size=233322 sha256=fded4d04b76fd3e545172dc0f77944fcb5bd6e23e9dc2b9dbe1459389e55421e\n",
            "  Stored in directory: /root/.cache/pip/wheels/5e/9e/b5/dbb033107407eec2f52b8cd24cf024a4b9ec8b62ea5aee995a\n",
            "Successfully built libsvm\n",
            "Installing collected packages: libsvm\n",
            "Successfully installed libsvm-3.23.0.4\n"
          ],
          "name": "stdout"
        }
      ]
    },
    {
      "cell_type": "code",
      "metadata": {
        "id": "hpYBgvmG9cZK",
        "colab_type": "code",
        "colab": {}
      },
      "source": [
        "import scipy.io as sc\n",
        "from libsvm.svmutil import *\n",
        "import matplotlib\n",
        "import matplotlib.pyplot as plt\n",
        "import numpy as np\n",
        "from sklearn.metrics import accuracy_score\n",
        "from cvxopt import matrix, solvers\n",
        "solvers.options['show_progress'] = False"
      ],
      "execution_count": 0,
      "outputs": []
    },
    {
      "cell_type": "code",
      "metadata": {
        "id": "OUaOx2D6UllE",
        "colab_type": "code",
        "colab": {}
      },
      "source": [
        "def split_train_test(features, target):\n",
        "  X_train, y_train = features[:150], target[:150].reshape(-1)\n",
        "  X_test, y_test = features[150:], target[150:].reshape(-1)\n",
        "  return X_train, y_train, X_test, y_test\n",
        "\n",
        "data = sc.loadmat('data.mat')\n",
        "X, y = data['X'], data['Y']\n",
        "\n",
        "X_train, y_train, X_test, y_test = split_train_test(X, y)"
      ],
      "execution_count": 0,
      "outputs": []
    },
    {
      "cell_type": "markdown",
      "metadata": {
        "id": "I0nSDMBhT52B",
        "colab_type": "text"
      },
      "source": [
        "## Task 1 - 30 pts\n",
        "\n",
        "Train a hard margin linear SVM and report both train and test classification accuracy."
      ]
    },
    {
      "cell_type": "code",
      "metadata": {
        "id": "AWFnpS8M1ErD",
        "colab_type": "code",
        "colab": {}
      },
      "source": [
        "def construct_model(train_target, train_features, kernel_type, c_value):\n",
        "  return svm_train(train_target, train_features, '-c {} -t {}'.format(c_value, kernel_type))\n",
        "\n",
        "def predict(model, test_target, test_features):\n",
        "  p_label, p_acc, p_val = svm_predict(test_target, test_features, model)\n",
        "  return p_acc[0]"
      ],
      "execution_count": 0,
      "outputs": []
    },
    {
      "cell_type": "code",
      "metadata": {
        "id": "iNnEPoiu2xRJ",
        "colab_type": "code",
        "outputId": "796b736a-d6e7-4f32-ef4b-46c4b60e7166",
        "colab": {
          "base_uri": "https://localhost:8080/",
          "height": 181
        }
      },
      "source": [
        "model = construct_model(y_train, X_train, 0, 10000000000)\n",
        "\n",
        "print('Training set')\n",
        "training_accuracy = predict(model, y_train, X_train)\n",
        "print('Training accuracy = ', training_accuracy)\n",
        "\n",
        "print('\\n --------- \\n')\n",
        "\n",
        "print('Test set')\n",
        "test_accuracy = predict(model, y_test, X_test)\n",
        "print('Test accuracy = ', test_accuracy)"
      ],
      "execution_count": 0,
      "outputs": [
        {
          "output_type": "stream",
          "text": [
            "Training set\n",
            "Accuracy = 74.6667% (112/150) (classification)\n",
            "Training accuracy =  74.66666666666667\n",
            "\n",
            " --------- \n",
            "\n",
            "Test set\n",
            "Accuracy = 77.5% (93/120) (classification)\n",
            "Test accuracy =  77.5\n"
          ],
          "name": "stdout"
        }
      ]
    },
    {
      "cell_type": "markdown",
      "metadata": {
        "id": "yVj96P33T52L",
        "colab_type": "text"
      },
      "source": [
        "## Task 2 - 40 pts\n",
        "\n",
        "Train soft margin SVM for different values of the parameter $C$, and with different kernel functions. Systematically report your results. For instance, report the performances of different kernels for a fixed $C$, then report the performance for different $C$ values for a fixed kernel, and so on."
      ]
    },
    {
      "cell_type": "code",
      "metadata": {
        "id": "8FnSuoZQT52N",
        "colab_type": "code",
        "outputId": "bc4d41af-9c21-41a0-9d2a-b874e0ad4427",
        "colab": {
          "base_uri": "https://localhost:8080/",
          "height": 1000
        }
      },
      "source": [
        "def execute(train_target, train_features, test_target, test_features, kernel_types, c_values, log = True):\n",
        "  accuracies = []\n",
        "  number_of_vectors = []\n",
        "  for kernel_type, c_value in zip(kernel_types, c_values):\n",
        "    if log:\n",
        "      print('Executing for kernel = {}, C = {}'.format(kernel_dict.get(str(kernel_type)), c_value))\n",
        "    m = construct_model(train_target, train_features, str(kernel_type), str(c_value))\n",
        "    accuracy = predict(m, test_target, test_features)\n",
        "    accuracies.append(accuracy)\n",
        "    number_of_vectors.append(m.get_nr_sv())    \n",
        "\n",
        "  return accuracies, number_of_vectors\n",
        "\n",
        "kernel_dict = {'0': 'Linear', '1': 'Polynomial', '2': 'Radial Basis', '3': 'Sigmoid'}\n",
        "\n",
        "print('Executing for different kernels for a fixed C = {} \\n'.format(1))\n",
        "print('Train values')\n",
        "train_accuracies_different_kernel, number_of_vectors = execute(y_train, X_train, y_train, X_train, [0, 1, 2, 3], [1, 1, 1, 1])\n",
        "\n",
        "print('\\n --------- \\n')\n",
        "\n",
        "print('Test values')\n",
        "test_accuracies_different_kernel, number_of_vectors = execute(y_train, X_train, y_test, X_test, [0, 1, 2, 3], [1, 1, 1, 1])\n",
        "\n",
        "fig, ax = plt.subplots()\n",
        "ax.plot([kernel_dict.get('0'), kernel_dict.get('1'), kernel_dict.get('2'), kernel_dict.get('3')], train_accuracies_different_kernel, label = 'Train set')\n",
        "ax.plot([kernel_dict.get('0'), kernel_dict.get('1'), kernel_dict.get('2'), kernel_dict.get('3')], test_accuracies_different_kernel, label = 'Test set')\n",
        "\n",
        "ax.set(xlabel='Kernel Types', ylabel='Accuracy',\n",
        "       title='Kernel types vs Accuracy for C value = {}'.format(1))\n",
        "ax.grid()\n",
        "ax.legend()\n",
        "\n",
        "plt.show()\n",
        "\n",
        "print('\\n --------- \\n')\n",
        "\n",
        "print('Executing for different C values for a fixed kernel type = {} \\n'.format(kernel_dict.get('2')))\n",
        "print('Train values')\n",
        "train_accuracies_different_c, number_of_vectors = execute(y_train, X_train, y_train, X_train, [2, 2, 2, 2, 2, 2], [1, 10, 25, 50, 75, 100])\n",
        "\n",
        "print('\\n --------- \\n')\n",
        "\n",
        "print('Test values')\n",
        "test_accuracies_different_c, number_of_vectors = execute(y_train, X_train, y_test, X_test, [2, 2, 2, 2, 2, 2], [1, 10, 25, 50, 75, 100])\n",
        "\n",
        "fig, ax = plt.subplots()\n",
        "ax.plot([1, 10, 25, 50, 75, 100], train_accuracies_different_c, label = 'Train set')\n",
        "ax.plot([1, 10, 25, 50, 75, 100], test_accuracies_different_c, label = 'Test set')\n",
        "\n",
        "ax.set(xlabel='C values', ylabel='Accuracy',\n",
        "       title='C values vs Accuracy for Kernel type = {}'.format(kernel_dict.get('2')))\n",
        "ax.grid()\n",
        "ax.legend()\n"
      ],
      "execution_count": 0,
      "outputs": [
        {
          "output_type": "stream",
          "text": [
            "Executing for different kernels for a fixed C = 1 \n",
            "\n",
            "Train values\n",
            "Executing for kernel = Linear, C = 1\n",
            "Accuracy = 86.6667% (130/150) (classification)\n",
            "Executing for kernel = Polynomial, C = 1\n",
            "Accuracy = 86% (129/150) (classification)\n",
            "Executing for kernel = Radial Basis, C = 1\n",
            "Accuracy = 86.6667% (130/150) (classification)\n",
            "Executing for kernel = Sigmoid, C = 1\n",
            "Accuracy = 82.6667% (124/150) (classification)\n",
            "\n",
            " --------- \n",
            "\n",
            "Test values\n",
            "Executing for kernel = Linear, C = 1\n",
            "Accuracy = 85% (102/120) (classification)\n",
            "Executing for kernel = Polynomial, C = 1\n",
            "Accuracy = 82.5% (99/120) (classification)\n",
            "Executing for kernel = Radial Basis, C = 1\n",
            "Accuracy = 84.1667% (101/120) (classification)\n",
            "Executing for kernel = Sigmoid, C = 1\n",
            "Accuracy = 84.1667% (101/120) (classification)\n"
          ],
          "name": "stdout"
        },
        {
          "output_type": "display_data",
          "data": {
            "image/png": "[encoded data removed]",
            "text/plain": [
              "<Figure size 432x288 with 1 Axes>"
            ]
          },
          "metadata": {
            "tags": [],
            "needs_background": "light"
          }
        },
        {
          "output_type": "stream",
          "text": [
            "\n",
            " --------- \n",
            "\n",
            "Executing for different C values for a fixed kernel type = Radial Basis \n",
            "\n",
            "Train values\n",
            "Executing for kernel = Radial Basis, C = 1\n",
            "Accuracy = 86.6667% (130/150) (classification)\n",
            "Executing for kernel = Radial Basis, C = 10\n",
            "Accuracy = 95.3333% (143/150) (classification)\n",
            "Executing for kernel = Radial Basis, C = 25\n",
            "Accuracy = 97.3333% (146/150) (classification)\n",
            "Executing for kernel = Radial Basis, C = 50\n",
            "Accuracy = 98% (147/150) (classification)\n",
            "Executing for kernel = Radial Basis, C = 75\n",
            "Accuracy = 98.6667% (148/150) (classification)\n",
            "Executing for kernel = Radial Basis, C = 100\n",
            "Accuracy = 99.3333% (149/150) (classification)\n",
            "\n",
            " --------- \n",
            "\n",
            "Test values\n",
            "Executing for kernel = Radial Basis, C = 1\n",
            "Accuracy = 84.1667% (101/120) (classification)\n",
            "Executing for kernel = Radial Basis, C = 10\n",
            "Accuracy = 77.5% (93/120) (classification)\n",
            "Executing for kernel = Radial Basis, C = 25\n",
            "Accuracy = 78.3333% (94/120) (classification)\n",
            "Executing for kernel = Radial Basis, C = 50\n",
            "Accuracy = 77.5% (93/120) (classification)\n",
            "Executing for kernel = Radial Basis, C = 75\n",
            "Accuracy = 79.1667% (95/120) (classification)\n",
            "Executing for kernel = Radial Basis, C = 100\n",
            "Accuracy = 78.3333% (94/120) (classification)\n"
          ],
          "name": "stdout"
        },
        {
          "output_type": "execute_result",
          "data": {
            "text/plain": [
              "<matplotlib.legend.Legend at 0x7fcece002e10>"
            ]
          },
          "metadata": {
            "tags": []
          },
          "execution_count": 6
        },
        {
          "output_type": "display_data",
          "data": {
            "image/png": "[encoded data removed]",
            "text/plain": [
              "<Figure size 432x288 with 1 Axes>"
            ]
          },
          "metadata": {
            "tags": [],
            "needs_background": "light"
          }
        }
      ]
    },
    {
      "cell_type": "markdown",
      "metadata": {
        "id": "6bQZhIU_T52U",
        "colab_type": "text"
      },
      "source": [
        "## Task 3 - 15 pts\n",
        "\n",
        "Please report how the number of support vectors changes as the value of $C$ increases (while all other parameters remain the same). Discuss whether your observations match the theory."
      ]
    },
    {
      "cell_type": "code",
      "metadata": {
        "id": "NPCeWOdyT52V",
        "colab_type": "code",
        "outputId": "aafe6c36-6652-4310-e524-f994c73afecf",
        "colab": {
          "base_uri": "https://localhost:8080/",
          "height": 404
        }
      },
      "source": [
        "kernels = [0, 0, 0, 0, 0]\n",
        "c_values = [1, 5, 10, 100, 300]\n",
        "accuracies, num_vectors = execute(y_train, X_train, y_test, X_test, kernels, c_values, log = False)\n",
        "\n",
        "fig, ax = plt.subplots()\n",
        "ax.scatter(c_values, num_vectors)\n",
        "\n",
        "ax.set(xlabel='C Values', ylabel='Number of support vectors',\n",
        "       title='Number of support vectors vs C values for kernel type = {}'.format(kernel_dict.get('0')))\n",
        "ax.grid()\n",
        "\n",
        "plt.show()\n",
        "\n",
        "print(num_vectors)"
      ],
      "execution_count": 0,
      "outputs": [
        {
          "output_type": "stream",
          "text": [
            "Accuracy = 85% (102/120) (classification)\n",
            "Accuracy = 81.6667% (98/120) (classification)\n",
            "Accuracy = 81.6667% (98/120) (classification)\n",
            "Accuracy = 81.6667% (98/120) (classification)\n",
            "Accuracy = 81.6667% (98/120) (classification)\n"
          ],
          "name": "stdout"
        },
        {
          "output_type": "display_data",
          "data": {
            "image/png": "[encoded data removed]",
            "text/plain": [
              "<Figure size 432x288 with 1 Axes>"
            ]
          },
          "metadata": {
            "tags": [],
            "needs_background": "light"
          }
        },
        {
          "output_type": "stream",
          "text": [
            "[58, 54, 51, 50, 49]\n"
          ],
          "name": "stdout"
        }
      ]
    },
    {
      "cell_type": "markdown",
      "metadata": {
        "id": "LloSqVbUT52b",
        "colab_type": "text"
      },
      "source": [
        "## Task 4 - 15 pts\n",
        "\n",
        "Please investigate the changes in the hyperplane when you remove one of the support vectors, vs., one data point that is not a support vector."
      ]
    },
    {
      "cell_type": "markdown",
      "metadata": {
        "id": "E5ZZzAWxMzAs",
        "colab_type": "text"
      },
      "source": [
        "#### *If a data point is not a support vector, removing it has no effect on the model.On the other hand, deleting the support vectors will then change the position of the hyperplane.*"
      ]
    },
    {
      "cell_type": "code",
      "metadata": {
        "id": "0VQ60BnxHGUg",
        "colab_type": "code",
        "outputId": "4e29bcbd-3dcc-442a-c244-c3a544bbbf19",
        "colab": {
          "base_uri": "https://localhost:8080/",
          "height": 126
        }
      },
      "source": [
        "model = construct_model(y_train, X_train, 0, 1)\n",
        "sv_indices = np.int_(np.array(model.get_sv_indices() - np.ones(len(model.get_sv_indices()))))\n",
        "non_sv_indices = np.setxor1d(np.array(range(X_train.shape[0])), sv_indices)\n",
        "\n",
        "sv_coef = model.get_sv_coef()\n",
        "w = np.matmul(np.array(X_train)[sv_indices].T, sv_coef)\n",
        "b = -model.rho.contents.value\n",
        "\n",
        "print(\"W: \", w.ravel())\n",
        "print(\"Norm of W: \", sum(w**2)**0.5)\n",
        "print(\"b: \", b)\n",
        "print(\"# of SV: \", model.get_nr_sv())"
      ],
      "execution_count": 0,
      "outputs": [
        {
          "output_type": "stream",
          "text": [
            "W:  [-0.47637751  0.39813231  0.86713369  0.57366213  0.32304567  0.10008082\n",
            "  0.05139059 -0.95512925  0.07086555  0.00576303  0.24894908  1.82218655\n",
            "  0.5129991 ]\n",
            "Norm of W:  [2.4791741]\n",
            "b:  1.1847368158140863\n",
            "# of SV:  58\n"
          ],
          "name": "stdout"
        }
      ]
    },
    {
      "cell_type": "code",
      "metadata": {
        "id": "ABtI8xTeIchb",
        "colab_type": "code",
        "outputId": "1caf7d01-0b9a-48c6-8329-f4378d6b7685",
        "colab": {
          "base_uri": "https://localhost:8080/",
          "height": 308
        }
      },
      "source": [
        "for i in [sv_indices[0], non_sv_indices[0]]:\n",
        "  X_ = np.delete(X_train, i, axis=0)\n",
        "  y_ = np.delete(y_train, i, axis=0)\n",
        "  model = construct_model(y_, X_, 0, 1)\n",
        "  w = np.matmul(np.array(X_)[np.int_(np.array(model.get_sv_indices() - np.ones(len(model.get_sv_indices()))))].T, model.get_sv_coef())\n",
        "  b = -model.rho.contents.value\n",
        "\n",
        "  print(\"W: \", w.ravel())\n",
        "  print(\"Norm of W: \", sum(w**2)**0.5)\n",
        "  print(\"b: \", b)\n",
        "  print(\"# of SV: \", model.get_nr_sv())\n",
        "  print(\"\\n\")"
      ],
      "execution_count": 0,
      "outputs": [
        {
          "output_type": "stream",
          "text": [
            "W:  [-0.66183675  0.36149846  0.93849842  0.57538557  0.36977623  0.10905087\n",
            "  0.07963851 -0.98344676  0.02084041  0.09060237  0.23487472  1.9661612\n",
            "  0.51400789]\n",
            "Norm of W:  [2.66392501]\n",
            "b:  1.3115309595573938\n",
            "# of SV:  56\n",
            "\n",
            "\n",
            "W:  [-0.47637751  0.39813231  0.86713369  0.57366213  0.32304567  0.10008082\n",
            "  0.05139059 -0.95512925  0.07086555  0.00576303  0.24894908  1.82218655\n",
            "  0.5129991 ]\n",
            "Norm of W:  [2.4791741]\n",
            "b:  1.184736815814086\n",
            "# of SV:  58\n",
            "\n",
            "\n"
          ],
          "name": "stdout"
        }
      ]
    },
    {
      "cell_type": "markdown",
      "metadata": {
        "id": "WGoIZm-hT52i",
        "colab_type": "text"
      },
      "source": [
        "### Bonus Task - 10 pts\n",
        "\n",
        "Use Python and [CVXOPT](http://cvxopt.org) QP solver to implement the hard margin SVM. "
      ]
    },
    {
      "cell_type": "code",
      "metadata": {
        "id": "5UxKzDQ5Dtll",
        "colab_type": "code",
        "colab": {}
      },
      "source": [
        "class HardMarginSVM():\n",
        "    def fit(self, X, y):\n",
        "        m, n = X.shape\n",
        "\n",
        "        self.P = matrix(np.identity(n + 1, dtype=np.float)) #Q\n",
        "        self.q = matrix(np.zeros((n + 1,), dtype=np.float)) #p\n",
        "        self.G = matrix(np.zeros((m, n + 1), dtype=np.float)) #A\n",
        "        self.h = matrix(-1 * np.ones((m, ), dtype=np.float)) #c\n",
        "\n",
        "        self.P[0, 0] = 0 # Set the [0,0] as 0 as shown in the slides\n",
        "\n",
        "        for i in range(m):\n",
        "          self.G[i, 0] = float(-y[i])\n",
        "          for j in range(n):\n",
        "            self.G[i, j + 1] = float(-y[i] * X[i, j])  \n",
        "\n",
        "        sol = solvers.qp(self.P, self.q, self.G, self.h)\n",
        "\n",
        "        self.w = np.zeros(n,) \n",
        "        self.b = sol[\"x\"][0] #bias is the first element of u*\n",
        "        for i in range(1, n + 1):\n",
        "            self.w[i - 1] = sol[\"x\"][i] #u* except the first element corresponds to w\n",
        "        \n",
        "        return self.w, self.b\n",
        "\n",
        "    def predict(self, X):\n",
        "        return np.sign(np.dot(self.w, X.T) + self.b) # g(x) = sign(X^T * w + b)"
      ],
      "execution_count": 0,
      "outputs": []
    },
    {
      "cell_type": "code",
      "metadata": {
        "id": "cfA0k4dmDwnb",
        "colab_type": "code",
        "outputId": "1171e33e-124a-4694-b72f-2f7323c2ebd8",
        "colab": {
          "base_uri": "https://localhost:8080/",
          "height": 35
        }
      },
      "source": [
        "X = np.column_stack(([0,2,2,3],[0,2,0,0]))\n",
        "y = np.array([-1,-1,1,1])\n",
        "\n",
        "model = HardMarginSVM()\n",
        "model.fit(X, y)\n",
        "predictions = model.predict(X)\n",
        "print('Accuracy = ', 100 * accuracy_score(y,predictions))"
      ],
      "execution_count": 0,
      "outputs": [
        {
          "output_type": "stream",
          "text": [
            "Accuracy =  100.0\n"
          ],
          "name": "stdout"
        }
      ]
    },
    {
      "cell_type": "code",
      "metadata": {
        "id": "4qAH3-BuRoIO",
        "colab_type": "code",
        "outputId": "e6b6df40-980c-4605-dfd5-08679a01bbf0",
        "colab": {
          "base_uri": "https://localhost:8080/",
          "height": 35
        }
      },
      "source": [
        "model.w"
      ],
      "execution_count": 0,
      "outputs": [
        {
          "output_type": "execute_result",
          "data": {
            "text/plain": [
              "array([ 1.00000001, -1.00000001])"
            ]
          },
          "metadata": {
            "tags": []
          },
          "execution_count": 12
        }
      ]
    },
    {
      "cell_type": "code",
      "metadata": {
        "id": "oSymc6RPiWxA",
        "colab_type": "code",
        "outputId": "8441b5a1-87e6-47cf-8db2-41588e39fbf3",
        "colab": {
          "base_uri": "https://localhost:8080/",
          "height": 35
        }
      },
      "source": [
        "model.b"
      ],
      "execution_count": 0,
      "outputs": [
        {
          "output_type": "execute_result",
          "data": {
            "text/plain": [
              "-1.0000000134075104"
            ]
          },
          "metadata": {
            "tags": []
          },
          "execution_count": 13
        }
      ]
    }
  ]
}